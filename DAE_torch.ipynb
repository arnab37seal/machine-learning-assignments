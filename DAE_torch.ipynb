{
  "nbformat": 4,
  "nbformat_minor": 0,
  "metadata": {
    "colab": {
      "provenance": [],
      "gpuType": "T4"
    },
    "kernelspec": {
      "name": "python3",
      "display_name": "Python 3"
    },
    "language_info": {
      "name": "python"
    },
    "accelerator": "GPU"
  },
  "cells": [
    {
      "cell_type": "code",
      "execution_count": 1,
      "metadata": {
        "id": "yda4LU-Gdx5J"
      },
      "outputs": [],
      "source": [
        "import torch\n",
        "import torch.nn as nn\n",
        "import torch.optim as optim\n",
        "from torchvision import datasets, transforms\n",
        "from torch.utils.data import TensorDataset,DataLoader\n",
        "import numpy as np\n",
        "import matplotlib.pyplot as plt\n",
        "from keras.datasets import mnist\n",
        "import random"
      ]
    },
    {
      "cell_type": "code",
      "source": [
        "device ='cuda' if torch.cuda.is_available() else 'cpu'\n",
        "print(f'Using {device} device')"
      ],
      "metadata": {
        "colab": {
          "base_uri": "https://localhost:8080/"
        },
        "id": "qQpPnxh8fizn",
        "outputId": "92e4ef7a-11e3-4a55-9e5c-d22cfb2267a9"
      },
      "execution_count": 2,
      "outputs": [
        {
          "output_type": "stream",
          "name": "stdout",
          "text": [
            "Using cuda device\n"
          ]
        }
      ]
    },
    {
      "cell_type": "code",
      "source": [
        "transform =transforms.Compose([\n",
        "    transforms.ToTensor(),\n",
        "    transforms.Normalize(0,1)\n",
        "])"
      ],
      "metadata": {
        "id": "jQU4B-A1rD8m"
      },
      "execution_count": 3,
      "outputs": []
    },
    {
      "cell_type": "code",
      "source": [
        "(x_train, y_train), (x_test, y_test) = mnist.load_data()"
      ],
      "metadata": {
        "id": "9gM_gjA-rMCj"
      },
      "execution_count": 4,
      "outputs": []
    },
    {
      "cell_type": "code",
      "source": [
        "\n",
        "x_train = x_train.astype(\"float32\") / 255.0\n",
        "x_test  = x_test.astype(\"float32\") / 255.0\n",
        "\n",
        "x_train = torch.tensor(x_train).unsqueeze(1)\n",
        "x_test  = torch.tensor(x_test).unsqueeze(1)\n",
        "\n",
        "y_train = torch.tensor(y_train, dtype=torch.long)\n",
        "y_test  = torch.tensor(y_test, dtype=torch.long)\n",
        "\n",
        "print(x_train.shape, y_train.shape)"
      ],
      "metadata": {
        "colab": {
          "base_uri": "https://localhost:8080/"
        },
        "id": "aHGc07nnrdkv",
        "outputId": "402cd72a-4f0b-4944-a5c5-f4ef1ac5a42e"
      },
      "execution_count": 5,
      "outputs": [
        {
          "output_type": "stream",
          "name": "stdout",
          "text": [
            "torch.Size([60000, 1, 28, 28]) torch.Size([60000])\n"
          ]
        }
      ]
    },
    {
      "cell_type": "code",
      "source": [
        "train_ds = TensorDataset(x_train, y_train)\n",
        "test_ds  = TensorDataset(x_test, y_test)\n",
        "\n",
        "train_loader = DataLoader(train_ds, batch_size=128, shuffle=True)\n",
        "test_loader  = DataLoader(test_ds, batch_size=128, shuffle=False)"
      ],
      "metadata": {
        "id": "U7kSRZ1rr-T6"
      },
      "execution_count": 6,
      "outputs": []
    },
    {
      "cell_type": "code",
      "source": [
        "def add_patchy_noise(batch, gamma=0.5, patch_size=8):\n",
        "\n",
        "    noisy_batch = batch.clone()\n",
        "    B, C, H, W = batch.shape\n",
        "    device = batch.device\n",
        "\n",
        "    for i in range(B):\n",
        "        r = torch.randint(0, H - patch_size, (1,)).item()\n",
        "        c = torch.randint(0, W - patch_size, (1,)).item()\n",
        "        noise = gamma * torch.randn((C, patch_size, patch_size), device=device)  # <-- FIXED\n",
        "        noisy_batch[i, :, r:r+patch_size, c:c+patch_size] += noise\n",
        "\n",
        "    noisy_batch = torch.clamp(noisy_batch, 0., 1.)\n",
        "    return noisy_batch"
      ],
      "metadata": {
        "id": "xTtScELfshvT"
      },
      "execution_count": 7,
      "outputs": []
    },
    {
      "cell_type": "code",
      "source": [
        "\n",
        "class DAE(nn.Module):\n",
        "    def __init__(self, input_dim=28*28, hidden_dim1=512, hidden_dim2=256, latent_dim=128):\n",
        "        super().__init__()\n",
        "\n",
        "        self.fc1 = nn.Linear(input_dim, hidden_dim1)\n",
        "        self.fc2 = nn.Linear(hidden_dim1, hidden_dim2)\n",
        "        self.fc3 = nn.Linear(hidden_dim2, latent_dim)\n",
        "\n",
        "        self.fc4 = nn.Linear(latent_dim, hidden_dim2)\n",
        "        self.fc5 = nn.Linear(hidden_dim2, hidden_dim1)\n",
        "        self.fc6 = nn.Linear(hidden_dim1, input_dim)\n",
        "\n",
        "        self.relu = nn.ReLU()\n",
        "        self.sigmoid = nn.Sigmoid()\n",
        "\n",
        "    def encode(self, x):\n",
        "        h1 = self.relu(self.fc1(x))\n",
        "        h2 = self.relu(self.fc2(h1))\n",
        "        h3 = self.relu(self.fc3(h2))\n",
        "        return h3\n",
        "\n",
        "    def decode(self, z):\n",
        "        h4 = self.relu(self.fc4(z))\n",
        "        h5 = self.relu(self.fc5(h4))\n",
        "        h6 = self.sigmoid(self.fc6(h5))\n",
        "        return h6\n",
        "\n",
        "    def forward(self, x):\n",
        "        x = x.view(x.size(0), -1)\n",
        "        z = self.encode(x)\n",
        "        y = self.decode(z)\n",
        "        return y.view(-1, 1, 28, 28)"
      ],
      "metadata": {
        "id": "0YRayZwstaNR"
      },
      "execution_count": 8,
      "outputs": []
    },
    {
      "cell_type": "code",
      "source": [
        "model= DAE().to(device)\n",
        "criterion = nn.MSELoss()\n",
        "optimizer = optim.Adam(model.parameters(), lr=1e-3)\n",
        "epochs = 15"
      ],
      "metadata": {
        "id": "bh1yT-UwvJQe"
      },
      "execution_count": 14,
      "outputs": []
    },
    {
      "cell_type": "code",
      "source": [
        "for epoch in range(epochs):\n",
        "    model.train()\n",
        "    epoch_loss = 0\n",
        "\n",
        "    for xb, _ in train_loader:\n",
        "        xb = xb.to(device)\n",
        "\n",
        "        xb_noisy = add_patchy_noise(xb, gamma=0.5).to(device)\n",
        "\n",
        "        out = model(xb_noisy)\n",
        "        loss = criterion(out, xb)\n",
        "        optimizer.zero_grad()\n",
        "        loss.backward()\n",
        "        optimizer.step()\n",
        "\n",
        "        epoch_loss += loss.item()\n",
        "\n",
        "    print(f\"Epoch {epoch+1}/{epochs}, Loss={epoch_loss/len(train_loader):.4f}\")\n"
      ],
      "metadata": {
        "colab": {
          "base_uri": "https://localhost:8080/"
        },
        "id": "3KPVLyyrwT5J",
        "outputId": "0e53d8b5-de85-4ce3-d309-90acbf15b74d"
      },
      "execution_count": 15,
      "outputs": [
        {
          "output_type": "stream",
          "name": "stdout",
          "text": [
            "Epoch 1/15, Loss=0.0496\n",
            "Epoch 2/15, Loss=0.0240\n",
            "Epoch 3/15, Loss=0.0187\n",
            "Epoch 4/15, Loss=0.0153\n",
            "Epoch 5/15, Loss=0.0133\n",
            "Epoch 6/15, Loss=0.0120\n",
            "Epoch 7/15, Loss=0.0111\n",
            "Epoch 8/15, Loss=0.0104\n",
            "Epoch 9/15, Loss=0.0098\n",
            "Epoch 10/15, Loss=0.0093\n",
            "Epoch 11/15, Loss=0.0089\n",
            "Epoch 12/15, Loss=0.0086\n",
            "Epoch 13/15, Loss=0.0083\n",
            "Epoch 14/15, Loss=0.0081\n",
            "Epoch 15/15, Loss=0.0079\n"
          ]
        }
      ]
    },
    {
      "cell_type": "code",
      "source": [
        "import matplotlib.pyplot as plt\n",
        "\n",
        "model.eval()\n",
        "with torch.no_grad():\n",
        "    xb, _ = next(iter(test_loader))\n",
        "    xb = xb.to(device)\n",
        "    xb_noisy = add_patchy_noise(xb, gamma=0.5).to(device)\n",
        "    out = model(xb_noisy)\n",
        "\n",
        "n = 8\n",
        "fig, axes = plt.subplots(3, n, figsize=(n*2, 6))\n",
        "for i in range(n):\n",
        "    axes[0, i].imshow(xb_noisy[i,0].cpu(), cmap=\"gray\"); axes[0, i].axis(\"off\")\n",
        "    axes[1, i].imshow(out[i,0].cpu(), cmap=\"gray\"); axes[1, i].axis(\"off\")\n",
        "    axes[2, i].imshow(xb[i,0].cpu(), cmap=\"gray\"); axes[2, i].axis(\"off\")\n",
        "\n",
        "axes[0,0].set_ylabel(\"Noisy\", fontsize=12)\n",
        "axes[1,0].set_ylabel(\"Denoised\", fontsize=12)\n",
        "axes[2,0].set_ylabel(\"Clean\", fontsize=12)\n",
        "plt.show()\n"
      ],
      "metadata": {
        "colab": {
          "base_uri": "https://localhost:8080/",
          "height": 256
        },
        "id": "u9S2VFTzxxoS",
        "outputId": "9f252296-6c0d-4644-d5c6-731de9fafd8f"
      },
      "execution_count": 16,
      "outputs": [
        {
          "output_type": "display_data",
          "data": {
            "text/plain": [
              "<Figure size 1600x600 with 24 Axes>"
            ],
            "image/png": "[encoded data removed]"
          },
          "metadata": {}
        }
      ]
    },
    {
      "cell_type": "code",
      "source": [
        "import matplotlib.pyplot as plt\n",
        "\n",
        "model.eval()\n",
        "with torch.no_grad():\n",
        "    xb, _ = next(iter(test_loader))\n",
        "    xb = xb.to(device)\n",
        "\n",
        "    xb_noisy = add_patchy_noise(xb, gamma=0.5).to(device)\n",
        "\n",
        "    out = model(xb_noisy)\n",
        "\n",
        "n = 8\n",
        "idxs = torch.randint(0, xb.shape[0], (n,))\n",
        "\n",
        "fig, axes = plt.subplots(3, n, figsize=(n*2, 6))\n",
        "for j, i in enumerate(idxs):\n",
        "    axes[0, j].imshow(xb_noisy[i,0].cpu().squeeze(), cmap=\"gray\")\n",
        "    axes[0, j].axis(\"off\")\n",
        "\n",
        "    axes[1, j].imshow(out[i,0].cpu().squeeze(), cmap=\"gray\")\n",
        "    axes[1, j].axis(\"off\")\n",
        "\n",
        "    axes[2, j].imshow(xb[i,0].cpu().squeeze(), cmap=\"gray\")\n",
        "    axes[2, j].axis(\"off\")\n",
        "\n",
        "axes[0,0].set_ylabel(\"Noisy\", fontsize=12)\n",
        "axes[1,0].set_ylabel(\"Denoised\", fontsize=12)\n",
        "axes[2,0].set_ylabel(\"Clean\", fontsize=12)\n",
        "plt.show()\n"
      ],
      "metadata": {
        "colab": {
          "base_uri": "https://localhost:8080/",
          "height": 256
        },
        "id": "CrgoXaO0y9jJ",
        "outputId": "91c293f7-71a5-4cca-c672-c9734e38c475"
      },
      "execution_count": 17,
      "outputs": [
        {
          "output_type": "display_data",
          "data": {
            "text/plain": [
              "<Figure size 1600x600 with 24 Axes>"
            ],
            "image/png": "[encoded data removed]"
          },
          "metadata": {}
        }
      ]
    }
  ]
}